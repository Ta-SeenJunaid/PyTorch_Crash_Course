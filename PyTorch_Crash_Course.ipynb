{
 "cells": [
  {
   "cell_type": "markdown",
   "metadata": {
    "id": "AB0mUM9DGEJJ"
   },
   "source": [
    "# 1. Tensors"
   ]
  },
  {
   "cell_type": "code",
   "execution_count": 56,
   "metadata": {
    "colab": {
     "base_uri": "https://localhost:8080/"
    },
    "executionInfo": {
     "elapsed": 4183,
     "status": "ok",
     "timestamp": 1731830953492,
     "user": {
      "displayName": "Ta-Seen Junaid",
      "userId": "10262038974734883085"
     },
     "user_tz": -60
    },
    "id": "kvJl4csyGOMv",
    "outputId": "aa1d94c0-d459-490a-a5fa-cfd520b8e8e1"
   },
   "outputs": [
    {
     "name": "stdout",
     "output_type": "stream",
     "text": [
      "empty(1):  tensor([0.])\n",
      "empty(3):  tensor([0., 0., 0.])\n",
      "emapty(2, 3):  tensor([[4.3652e+27, 4.3166e-41, 4.3652e+27],\n",
      "        [4.3166e-41, 4.4842e-44, 0.0000e+00]])\n",
      "empty(2, 3, 4):  tensor([[[4.3653e+27, 4.3166e-41, 4.3653e+27, 4.3166e-41],\n",
      "         [4.4842e-44, 0.0000e+00, 1.5695e-43, 0.0000e+00],\n",
      "         [6.7090e-32, 0.0000e+00, 0.0000e+00, 0.0000e+00]],\n",
      "\n",
      "        [[6.9293e-32, 0.0000e+00, 9.6971e-36, 0.0000e+00],\n",
      "         [1.2423e+26, 4.3164e-41, 4.2039e-45, 0.0000e+00],\n",
      "         [1.4013e-45, 0.0000e+00, 3.9236e-44, 0.0000e+00]]])\n",
      "rand(4, 8):  tensor([[0.7562, 0.2876, 0.8301, 0.9141, 0.7650, 0.5325, 0.6660, 0.5637],\n",
      "        [0.5014, 0.9240, 0.0855, 0.0856, 0.4764, 0.3510, 0.7641, 0.1541],\n",
      "        [0.1194, 0.6749, 0.1689, 0.6721, 0.3538, 0.5691, 0.1204, 0.9287],\n",
      "        [0.4316, 0.9410, 0.9669, 0.3693, 0.3807, 0.5634, 0.0816, 0.6781]])\n",
      "zeros(5, 3):  tensor([[0., 0., 0.],\n",
      "        [0., 0., 0.],\n",
      "        [0., 0., 0.],\n",
      "        [0., 0., 0.],\n",
      "        [0., 0., 0.]])\n",
      "ones(5, 3):  tensor([[1., 1., 1.],\n",
      "        [1., 1., 1.],\n",
      "        [1., 1., 1.],\n",
      "        [1., 1., 1.],\n",
      "        [1., 1., 1.]])\n"
     ]
    }
   ],
   "source": [
    "import torch\n",
    "\n",
    "x = torch.empty(1) # scalar\n",
    "print(\"empty(1): \", x)\n",
    "\n",
    "x = torch.empty(3) # vector\n",
    "print(\"empty(3): \", x)\n",
    "\n",
    "x = torch.empty(2, 3) # matrix\n",
    "print(\"emapty(2, 3): \", x)\n",
    "\n",
    "x = torch.empty(2, 3, 4) #tensor\n",
    "print(\"empty(2, 3, 4): \", x)\n",
    "\n",
    "x = torch.rand(4, 8)\n",
    "print(\"rand(4, 8): \", x)\n",
    "\n",
    "x = torch.zeros(5, 3)\n",
    "print(\"zeros(5, 3): \", x)\n",
    "\n",
    "x = torch.ones(5,3)\n",
    "print(\"ones(5, 3): \", x)"
   ]
  },
  {
   "cell_type": "code",
   "execution_count": 57,
   "metadata": {
    "colab": {
     "base_uri": "https://localhost:8080/"
    },
    "executionInfo": {
     "elapsed": 393,
     "status": "ok",
     "timestamp": 1731830957044,
     "user": {
      "displayName": "Ta-Seen Junaid",
      "userId": "10262038974734883085"
     },
     "user_tz": -60
    },
    "id": "GjNRHAmaGR8n",
    "outputId": "fdadd57b-5521-464a-b728-2d33b338d47f"
   },
   "outputs": [
    {
     "name": "stdout",
     "output_type": "stream",
     "text": [
      "size  torch.Size([5, 3])\n",
      "5\n",
      "shape torch.Size([5, 3])\n",
      "5\n"
     ]
    }
   ],
   "source": [
    "print(\"size \", x.size())\n",
    "print(x.size(0))\n",
    "print(\"shape\", x.shape)\n",
    "print(x.shape[0])"
   ]
  },
  {
   "cell_type": "code",
   "execution_count": 58,
   "metadata": {
    "colab": {
     "base_uri": "https://localhost:8080/"
    },
    "executionInfo": {
     "elapsed": 394,
     "status": "ok",
     "timestamp": 1731830959921,
     "user": {
      "displayName": "Ta-Seen Junaid",
      "userId": "10262038974734883085"
     },
     "user_tz": -60
    },
    "id": "DDrqYNLpIthV",
    "outputId": "c66ee014-7d7f-4b4d-c2f8-e7a39bf790f4"
   },
   "outputs": [
    {
     "name": "stdout",
     "output_type": "stream",
     "text": [
      "torch.float32\n",
      "tensor([[0., 0., 0.],\n",
      "        [0., 0., 0.],\n",
      "        [0., 0., 0.],\n",
      "        [0., 0., 0.],\n",
      "        [0., 0., 0.]], dtype=torch.float16)\n",
      "torch.float16\n"
     ]
    }
   ],
   "source": [
    "# check data type\n",
    "print(x.dtype)\n",
    "\n",
    "x = torch.zeros(5, 3, dtype=torch.float16)\n",
    "print(x)\n",
    "\n",
    "print(x.dtype)"
   ]
  },
  {
   "cell_type": "code",
   "execution_count": 59,
   "metadata": {
    "colab": {
     "base_uri": "https://localhost:8080/"
    },
    "executionInfo": {
     "elapsed": 397,
     "status": "ok",
     "timestamp": 1731830964786,
     "user": {
      "displayName": "Ta-Seen Junaid",
      "userId": "10262038974734883085"
     },
     "user_tz": -60
    },
    "id": "zK0fIP6gJVN9",
    "outputId": "dd8c7835-fdd5-4512-9204-4c3e134a6b6f"
   },
   "outputs": [
    {
     "name": "stdout",
     "output_type": "stream",
     "text": [
      "tensor([5.5000, 3.0000]) torch.float32\n"
     ]
    }
   ],
   "source": [
    "x = torch.tensor([5.5, 3])\n",
    "print(x, x.dtype)"
   ]
  },
  {
   "cell_type": "code",
   "execution_count": 60,
   "metadata": {
    "colab": {
     "base_uri": "https://localhost:8080/"
    },
    "executionInfo": {
     "elapsed": 425,
     "status": "ok",
     "timestamp": 1731830966720,
     "user": {
      "displayName": "Ta-Seen Junaid",
      "userId": "10262038974734883085"
     },
     "user_tz": -60
    },
    "id": "2PYVLK2FJ482",
    "outputId": "323fcc8f-90fb-42de-9d43-4fd328512c63"
   },
   "outputs": [
    {
     "name": "stdout",
     "output_type": "stream",
     "text": [
      "tensor([5.5000, 3.0000], requires_grad=True)\n"
     ]
    }
   ],
   "source": [
    "# requires_grad argument\n",
    "# this will tell pytorch that it will need to calculate the gradients for this tensor\n",
    "# later in your optimization steps\n",
    "x = torch.tensor([5.5, 3], requires_grad=True)\n",
    "print(x)"
   ]
  },
  {
   "cell_type": "markdown",
   "metadata": {
    "id": "9pOSv7D_K5WT"
   },
   "source": [
    "### Operations with Tensors"
   ]
  },
  {
   "cell_type": "code",
   "execution_count": 61,
   "metadata": {
    "colab": {
     "base_uri": "https://localhost:8080/"
    },
    "executionInfo": {
     "elapsed": 4,
     "status": "ok",
     "timestamp": 1731830968479,
     "user": {
      "displayName": "Ta-Seen Junaid",
      "userId": "10262038974734883085"
     },
     "user_tz": -60
    },
    "id": "pQpWqkzBKvU4",
    "outputId": "5dd6e77d-84e4-40d3-9fab-278ec36bd6ad"
   },
   "outputs": [
    {
     "name": "stdout",
     "output_type": "stream",
     "text": [
      "tensor([[0.6096, 0.3310, 0.2366, 0.1293, 0.8413, 0.6575],\n",
      "        [0.7149, 0.5266, 0.5600, 0.3189, 0.4857, 0.6354],\n",
      "        [0.8728, 0.5802, 0.3020, 0.7146, 0.2011, 0.5033],\n",
      "        [0.9593, 0.1674, 0.8014, 0.2452, 0.6654, 0.1804],\n",
      "        [0.0522, 0.3970, 0.6016, 0.4274, 0.9688, 0.6587],\n",
      "        [0.3304, 0.9882, 0.4135, 0.9253, 0.8578, 0.9284]])\n",
      "tensor([[1., 1., 1., 1., 1., 1.],\n",
      "        [1., 1., 1., 1., 1., 1.],\n",
      "        [1., 1., 1., 1., 1., 1.],\n",
      "        [1., 1., 1., 1., 1., 1.],\n",
      "        [1., 1., 1., 1., 1., 1.],\n",
      "        [1., 1., 1., 1., 1., 1.]])\n",
      "tensor([[1.6096, 1.3310, 1.2366, 1.1293, 1.8413, 1.6575],\n",
      "        [1.7149, 1.5266, 1.5600, 1.3189, 1.4857, 1.6354],\n",
      "        [1.8728, 1.5802, 1.3020, 1.7146, 1.2011, 1.5033],\n",
      "        [1.9593, 1.1674, 1.8014, 1.2452, 1.6654, 1.1804],\n",
      "        [1.0522, 1.3970, 1.6016, 1.4274, 1.9688, 1.6587],\n",
      "        [1.3304, 1.9882, 1.4135, 1.9253, 1.8578, 1.9284]])\n",
      "tensor([[1.6096, 1.3310, 1.2366, 1.1293, 1.8413, 1.6575],\n",
      "        [1.7149, 1.5266, 1.5600, 1.3189, 1.4857, 1.6354],\n",
      "        [1.8728, 1.5802, 1.3020, 1.7146, 1.2011, 1.5033],\n",
      "        [1.9593, 1.1674, 1.8014, 1.2452, 1.6654, 1.1804],\n",
      "        [1.0522, 1.3970, 1.6016, 1.4274, 1.9688, 1.6587],\n",
      "        [1.3304, 1.9882, 1.4135, 1.9253, 1.8578, 1.9284]])\n",
      "tensor([[1.6096, 1.3310, 1.2366, 1.1293, 1.8413, 1.6575],\n",
      "        [1.7149, 1.5266, 1.5600, 1.3189, 1.4857, 1.6354],\n",
      "        [1.8728, 1.5802, 1.3020, 1.7146, 1.2011, 1.5033],\n",
      "        [1.9593, 1.1674, 1.8014, 1.2452, 1.6654, 1.1804],\n",
      "        [1.0522, 1.3970, 1.6016, 1.4274, 1.9688, 1.6587],\n",
      "        [1.3304, 1.9882, 1.4135, 1.9253, 1.8578, 1.9284]])\n"
     ]
    }
   ],
   "source": [
    "x = torch.rand(6, 6)\n",
    "y = torch.ones(6, 6)\n",
    "\n",
    "# elementwise addition\n",
    "z = x + y\n",
    "\n",
    "print(x)\n",
    "print(y)\n",
    "print(z)\n",
    "\n",
    "print(torch.add(x, y))\n",
    "print(y.add_(x))"
   ]
  },
  {
   "cell_type": "code",
   "execution_count": 62,
   "metadata": {
    "colab": {
     "base_uri": "https://localhost:8080/"
    },
    "executionInfo": {
     "elapsed": 406,
     "status": "ok",
     "timestamp": 1731830971548,
     "user": {
      "displayName": "Ta-Seen Junaid",
      "userId": "10262038974734883085"
     },
     "user_tz": -60
    },
    "id": "18FhhXvdLh0Z",
    "outputId": "000b86ee-a573-4ca5-cdc7-5c3b0c6c8f5f"
   },
   "outputs": [
    {
     "name": "stdout",
     "output_type": "stream",
     "text": [
      "tensor([[-1.0000, -1.0000, -1.0000, -1.0000, -1.0000, -1.0000],\n",
      "        [-1.0000, -1.0000, -1.0000, -1.0000, -1.0000, -1.0000],\n",
      "        [-1.0000, -1.0000, -1.0000, -1.0000, -1.0000, -1.0000],\n",
      "        [-1.0000, -1.0000, -1.0000, -1.0000, -1.0000, -1.0000],\n",
      "        [-1.0000, -1.0000, -1.0000, -1.0000, -1.0000, -1.0000],\n",
      "        [-1.0000, -1.0000, -1.0000, -1.0000, -1.0000, -1.0000]])\n",
      "tensor([[-1.0000, -1.0000, -1.0000, -1.0000, -1.0000, -1.0000],\n",
      "        [-1.0000, -1.0000, -1.0000, -1.0000, -1.0000, -1.0000],\n",
      "        [-1.0000, -1.0000, -1.0000, -1.0000, -1.0000, -1.0000],\n",
      "        [-1.0000, -1.0000, -1.0000, -1.0000, -1.0000, -1.0000],\n",
      "        [-1.0000, -1.0000, -1.0000, -1.0000, -1.0000, -1.0000],\n",
      "        [-1.0000, -1.0000, -1.0000, -1.0000, -1.0000, -1.0000]])\n",
      "tensor([[-1.0000, -1.0000, -1.0000, -1.0000, -1.0000, -1.0000],\n",
      "        [-1.0000, -1.0000, -1.0000, -1.0000, -1.0000, -1.0000],\n",
      "        [-1.0000, -1.0000, -1.0000, -1.0000, -1.0000, -1.0000],\n",
      "        [-1.0000, -1.0000, -1.0000, -1.0000, -1.0000, -1.0000],\n",
      "        [-1.0000, -1.0000, -1.0000, -1.0000, -1.0000, -1.0000],\n",
      "        [-1.0000, -1.0000, -1.0000, -1.0000, -1.0000, -1.0000]])\n"
     ]
    }
   ],
   "source": [
    "print(x-y)\n",
    "print(torch.sub(x, y))\n",
    "print(x.sub_(y))"
   ]
  },
  {
   "cell_type": "code",
   "execution_count": 63,
   "metadata": {
    "colab": {
     "base_uri": "https://localhost:8080/"
    },
    "executionInfo": {
     "elapsed": 2,
     "status": "ok",
     "timestamp": 1731830973921,
     "user": {
      "displayName": "Ta-Seen Junaid",
      "userId": "10262038974734883085"
     },
     "user_tz": -60
    },
    "id": "9ySsGw8YNSDt",
    "outputId": "85c8b0f4-a22e-4637-aad7-8bcde0c7162d"
   },
   "outputs": [
    {
     "name": "stdout",
     "output_type": "stream",
     "text": [
      "tensor([[-1.6096, -1.3310, -1.2366, -1.1293, -1.8413, -1.6575],\n",
      "        [-1.7149, -1.5266, -1.5600, -1.3189, -1.4857, -1.6354],\n",
      "        [-1.8728, -1.5802, -1.3020, -1.7146, -1.2011, -1.5033],\n",
      "        [-1.9593, -1.1674, -1.8014, -1.2452, -1.6654, -1.1804],\n",
      "        [-1.0522, -1.3970, -1.6016, -1.4274, -1.9688, -1.6587],\n",
      "        [-1.3304, -1.9882, -1.4135, -1.9253, -1.8578, -1.9284]])\n",
      "tensor([[-1.6096, -1.3310, -1.2366, -1.1293, -1.8413, -1.6575],\n",
      "        [-1.7149, -1.5266, -1.5600, -1.3189, -1.4857, -1.6354],\n",
      "        [-1.8728, -1.5802, -1.3020, -1.7146, -1.2011, -1.5033],\n",
      "        [-1.9593, -1.1674, -1.8014, -1.2452, -1.6654, -1.1804],\n",
      "        [-1.0522, -1.3970, -1.6016, -1.4274, -1.9688, -1.6587],\n",
      "        [-1.3304, -1.9882, -1.4135, -1.9253, -1.8578, -1.9284]])\n",
      "tensor([[-1.6096, -1.3310, -1.2366, -1.1293, -1.8413, -1.6575],\n",
      "        [-1.7149, -1.5266, -1.5600, -1.3189, -1.4857, -1.6354],\n",
      "        [-1.8728, -1.5802, -1.3020, -1.7146, -1.2011, -1.5033],\n",
      "        [-1.9593, -1.1674, -1.8014, -1.2452, -1.6654, -1.1804],\n",
      "        [-1.0522, -1.3970, -1.6016, -1.4274, -1.9688, -1.6587],\n",
      "        [-1.3304, -1.9882, -1.4135, -1.9253, -1.8578, -1.9284]])\n"
     ]
    }
   ],
   "source": [
    "print(x*y)\n",
    "print(torch.mul(x,y))\n",
    "print(x.mul_(y))"
   ]
  },
  {
   "cell_type": "code",
   "execution_count": 64,
   "metadata": {
    "colab": {
     "base_uri": "https://localhost:8080/"
    },
    "executionInfo": {
     "elapsed": 424,
     "status": "ok",
     "timestamp": 1731830976409,
     "user": {
      "displayName": "Ta-Seen Junaid",
      "userId": "10262038974734883085"
     },
     "user_tz": -60
    },
    "id": "M2qdsQStN3t-",
    "outputId": "64da808b-d666-43b1-b6de-c4fcd29683d6"
   },
   "outputs": [
    {
     "name": "stdout",
     "output_type": "stream",
     "text": [
      "tensor([[-1.0000, -1.0000, -1.0000, -1.0000, -1.0000, -1.0000],\n",
      "        [-1.0000, -1.0000, -1.0000, -1.0000, -1.0000, -1.0000],\n",
      "        [-1.0000, -1.0000, -1.0000, -1.0000, -1.0000, -1.0000],\n",
      "        [-1.0000, -1.0000, -1.0000, -1.0000, -1.0000, -1.0000],\n",
      "        [-1.0000, -1.0000, -1.0000, -1.0000, -1.0000, -1.0000],\n",
      "        [-1.0000, -1.0000, -1.0000, -1.0000, -1.0000, -1.0000]])\n",
      "tensor([[-1.0000, -1.0000, -1.0000, -1.0000, -1.0000, -1.0000],\n",
      "        [-1.0000, -1.0000, -1.0000, -1.0000, -1.0000, -1.0000],\n",
      "        [-1.0000, -1.0000, -1.0000, -1.0000, -1.0000, -1.0000],\n",
      "        [-1.0000, -1.0000, -1.0000, -1.0000, -1.0000, -1.0000],\n",
      "        [-1.0000, -1.0000, -1.0000, -1.0000, -1.0000, -1.0000],\n",
      "        [-1.0000, -1.0000, -1.0000, -1.0000, -1.0000, -1.0000]])\n",
      "tensor([[-1.0000, -1.0000, -1.0000, -1.0000, -1.0000, -1.0000],\n",
      "        [-1.0000, -1.0000, -1.0000, -1.0000, -1.0000, -1.0000],\n",
      "        [-1.0000, -1.0000, -1.0000, -1.0000, -1.0000, -1.0000],\n",
      "        [-1.0000, -1.0000, -1.0000, -1.0000, -1.0000, -1.0000],\n",
      "        [-1.0000, -1.0000, -1.0000, -1.0000, -1.0000, -1.0000],\n",
      "        [-1.0000, -1.0000, -1.0000, -1.0000, -1.0000, -1.0000]])\n"
     ]
    }
   ],
   "source": [
    "print(x/y)\n",
    "print(torch.div(x,y))\n",
    "print(x.div_(y))"
   ]
  },
  {
   "cell_type": "code",
   "execution_count": 65,
   "metadata": {
    "colab": {
     "base_uri": "https://localhost:8080/"
    },
    "executionInfo": {
     "elapsed": 399,
     "status": "ok",
     "timestamp": 1731830978515,
     "user": {
      "displayName": "Ta-Seen Junaid",
      "userId": "10262038974734883085"
     },
     "user_tz": -60
    },
    "id": "k__s0cBtN5a-",
    "outputId": "3de39407-90d5-4055-8288-384be8bebd55"
   },
   "outputs": [
    {
     "name": "stdout",
     "output_type": "stream",
     "text": [
      "tensor([[0.8608, 0.7808, 0.0796, 0.6097],\n",
      "        [0.8878, 0.4331, 0.8533, 0.0417],\n",
      "        [0.4777, 0.3397, 0.6137, 0.5152],\n",
      "        [0.0360, 0.1662, 0.3993, 0.5566],\n",
      "        [0.8098, 0.9911, 0.4291, 0.8217],\n",
      "        [0.7366, 0.8372, 0.2681, 0.8454],\n",
      "        [0.1311, 0.9534, 0.8164, 0.9072]])\n",
      "x[:, 0]:  tensor([0.8608, 0.8878, 0.4777, 0.0360, 0.8098, 0.7366, 0.1311])\n",
      "x[1, :]:  tensor([0.8878, 0.4331, 0.8533, 0.0417])\n",
      "x[1, 2]:  tensor(0.8533)\n",
      "0.8532841801643372\n"
     ]
    }
   ],
   "source": [
    "# Slicing\n",
    "x = torch.rand(7,4)\n",
    "print(x)\n",
    "print(\"x[:, 0]: \", x[:, 0]) # all rows, column 0\n",
    "print(\"x[1, :]: \", x[1, :]) # row 1, all columns\n",
    "print(\"x[1, 2]: \", x[1, 2]) # element at 1, 2\n",
    "\n",
    "print(x[1, 2].item()) # get the value as a Python number\n"
   ]
  },
  {
   "cell_type": "code",
   "execution_count": 66,
   "metadata": {
    "colab": {
     "base_uri": "https://localhost:8080/"
    },
    "executionInfo": {
     "elapsed": 413,
     "status": "ok",
     "timestamp": 1731830980615,
     "user": {
      "displayName": "Ta-Seen Junaid",
      "userId": "10262038974734883085"
     },
     "user_tz": -60
    },
    "id": "WjA8IxxX5AHt",
    "outputId": "a9ef8ee9-f6ea-446c-da57-015f0cc6e848"
   },
   "outputs": [
    {
     "name": "stdout",
     "output_type": "stream",
     "text": [
      "torch.Size([4, 4]) torch.Size([16]) torch.Size([2, 8])\n"
     ]
    }
   ],
   "source": [
    "x = torch.randn(4,4)\n",
    "y = x.view(16)\n",
    "z = x.view(-1, 8) # the size -1 is inferred from other dimensions\n",
    "print(x.size(), y.size(), z.size())"
   ]
  },
  {
   "cell_type": "markdown",
   "metadata": {
    "id": "p0MXoUxz5-Qv"
   },
   "source": [
    "### Numpy"
   ]
  },
  {
   "cell_type": "code",
   "execution_count": 67,
   "metadata": {
    "colab": {
     "base_uri": "https://localhost:8080/"
    },
    "executionInfo": {
     "elapsed": 405,
     "status": "ok",
     "timestamp": 1731830982792,
     "user": {
      "displayName": "Ta-Seen Junaid",
      "userId": "10262038974734883085"
     },
     "user_tz": -60
    },
    "id": "M_v2HFe65uk2",
    "outputId": "c147731c-4fce-442e-c37c-6325251a031f"
   },
   "outputs": [
    {
     "name": "stdout",
     "output_type": "stream",
     "text": [
      "tensor([1., 1., 1., 1., 1., 1., 1., 1., 1., 1.])\n",
      "[1. 1. 1. 1. 1. 1. 1. 1. 1. 1.]\n",
      "<class 'numpy.ndarray'>\n"
     ]
    }
   ],
   "source": [
    "a = torch.ones(10)\n",
    "print(a)\n",
    "\n",
    "b = a.numpy()\n",
    "print(b)\n",
    "print(type(b))"
   ]
  },
  {
   "cell_type": "code",
   "execution_count": 68,
   "metadata": {
    "colab": {
     "base_uri": "https://localhost:8080/"
    },
    "executionInfo": {
     "elapsed": 402,
     "status": "ok",
     "timestamp": 1731830984791,
     "user": {
      "displayName": "Ta-Seen Junaid",
      "userId": "10262038974734883085"
     },
     "user_tz": -60
    },
    "id": "M_LPbypx6MG_",
    "outputId": "3f5dc5a2-bd4a-4426-f138-e5e28d86ac26"
   },
   "outputs": [
    {
     "name": "stdout",
     "output_type": "stream",
     "text": [
      "tensor([2., 2., 2., 2., 2., 2., 2., 2., 2., 2.])\n",
      "[2. 2. 2. 2. 2. 2. 2. 2. 2. 2.]\n"
     ]
    }
   ],
   "source": [
    "# Careful: If the Tensor is on the CPU (not the GPU),\n",
    "# both objects will share the same memory location, so changing one\n",
    "# will also change the other\n",
    "\n",
    "a.add_(1)\n",
    "print(a)\n",
    "print(b)"
   ]
  },
  {
   "cell_type": "code",
   "execution_count": 69,
   "metadata": {
    "colab": {
     "base_uri": "https://localhost:8080/"
    },
    "executionInfo": {
     "elapsed": 408,
     "status": "ok",
     "timestamp": 1731830986565,
     "user": {
      "displayName": "Ta-Seen Junaid",
      "userId": "10262038974734883085"
     },
     "user_tz": -60
    },
    "id": "l_otMhfb6r2Z",
    "outputId": "dd6ca879-084a-4b22-da7d-40451e41fd4c"
   },
   "outputs": [
    {
     "name": "stdout",
     "output_type": "stream",
     "text": [
      "[1. 1. 1. 1. 1.]\n",
      "tensor([1., 1., 1., 1., 1.], dtype=torch.float64)\n",
      "tensor([1., 1., 1., 1., 1.], dtype=torch.float64)\n",
      "[2. 2. 2. 2. 2.]\n",
      "tensor([2., 2., 2., 2., 2.], dtype=torch.float64)\n",
      "tensor([1., 1., 1., 1., 1.], dtype=torch.float64)\n"
     ]
    }
   ],
   "source": [
    "import numpy as np\n",
    "a = np.ones(5)\n",
    "b = torch.from_numpy(a)\n",
    "c = torch.tensor(a)\n",
    "print(a)\n",
    "print(b)\n",
    "print(c)\n",
    "\n",
    "# again be careful when modifying\n",
    "a += 1\n",
    "print(a)\n",
    "print(b)\n",
    "print(c)"
   ]
  },
  {
   "cell_type": "markdown",
   "metadata": {
    "id": "pyngGI1n8A2U"
   },
   "source": [
    "## GPU support"
   ]
  },
  {
   "cell_type": "markdown",
   "metadata": {
    "id": "nIIKDlto8Rgo"
   },
   "source": [
    "By default all tensors are created on the CPU. But you can also move them to the GPU (if it's available), or create them directly on the GPU"
   ]
  },
  {
   "cell_type": "code",
   "execution_count": 70,
   "metadata": {
    "id": "WhuSAgey7JJx"
   },
   "outputs": [],
   "source": [
    "device = torch.device('cuda' if torch.cuda.is_available() else 'cpu')\n",
    "\n",
    "x = torch.rand(2,2).to(device)\n",
    "\n",
    "x = torch.rand(2, 2, device=device)"
   ]
  },
  {
   "cell_type": "markdown",
   "metadata": {
    "id": "2yxAX-Y1K_tb"
   },
   "source": [
    "# Autograd"
   ]
  },
  {
   "cell_type": "markdown",
   "metadata": {
    "id": "VHbhahXZLN-O"
   },
   "source": [
    "The autograd package provides automatic differentiation for all operations on Tensors. Generally speaking, *torch.autograd* is an engine for computing the vector-Jacobian product. It computes partial derivates while applying the chain rule.\n",
    "\n",
    "Set `requires_grad = True`:"
   ]
  },
  {
   "cell_type": "code",
   "execution_count": 71,
   "metadata": {
    "colab": {
     "base_uri": "https://localhost:8080/"
    },
    "executionInfo": {
     "elapsed": 391,
     "status": "ok",
     "timestamp": 1731831799659,
     "user": {
      "displayName": "Ta-Seen Junaid",
      "userId": "10262038974734883085"
     },
     "user_tz": -60
    },
    "id": "GZMGnfG0LNCr",
    "outputId": "cb6b7516-62d9-4ad7-806e-c4a9da4a6d19"
   },
   "outputs": [
    {
     "name": "stdout",
     "output_type": "stream",
     "text": [
      "tensor([-0.8442,  0.0189, -2.1897], requires_grad=True)\n",
      "tensor([ 1.1558,  2.0189, -0.1897], grad_fn=<AddBackward0>)\n",
      "<AddBackward0 object at 0x7853e3519730>\n"
     ]
    }
   ],
   "source": [
    "import torch\n",
    "\n",
    "x = torch.randn(3, requires_grad= True)\n",
    "y = x + 2\n",
    "\n",
    "# y was created as a result of an operation, so it has a grad_fn attribute.\n",
    "# grad_fn: references a Function that has created the Tensor\n",
    "print(x) # created by the user -> grad_fn is None\n",
    "print(y)\n",
    "print(y.grad_fn)"
   ]
  },
  {
   "cell_type": "code",
   "execution_count": 72,
   "metadata": {
    "colab": {
     "base_uri": "https://localhost:8080/"
    },
    "executionInfo": {
     "elapsed": 405,
     "status": "ok",
     "timestamp": 1731831801362,
     "user": {
      "displayName": "Ta-Seen Junaid",
      "userId": "10262038974734883085"
     },
     "user_tz": -60
    },
    "id": "ROaXGfdf9JUn",
    "outputId": "040d1b6e-2d86-46f5-f4b0-1e72c172cd97"
   },
   "outputs": [
    {
     "name": "stdout",
     "output_type": "stream",
     "text": [
      "tensor([ 1.3124e+02,  6.9942e+02, -5.7991e-01], grad_fn=<MulBackward0>)\n",
      "tensor(276.6961, grad_fn=<MeanBackward0>)\n"
     ]
    }
   ],
   "source": [
    "z = y * y * y * 85\n",
    "print(z)\n",
    "z = z.mean()\n",
    "print(z)"
   ]
  },
  {
   "cell_type": "code",
   "execution_count": 73,
   "metadata": {
    "colab": {
     "base_uri": "https://localhost:8080/"
    },
    "executionInfo": {
     "elapsed": 394,
     "status": "ok",
     "timestamp": 1731831803406,
     "user": {
      "displayName": "Ta-Seen Junaid",
      "userId": "10262038974734883085"
     },
     "user_tz": -60
    },
    "id": "1Xj-vhRsNJqF",
    "outputId": "dcab0f57-744d-4c4c-8e9b-f5acfcdf79cb"
   },
   "outputs": [
    {
     "name": "stdout",
     "output_type": "stream",
     "text": [
      "None\n",
      "tensor([113.5516, 346.4442,   3.0576])\n"
     ]
    }
   ],
   "source": [
    "# Let's compute the gradients with backpropagation\n",
    "# When we finish our computation we can call .backward() and have all the gradients computed automatically.\n",
    "# The gradient for this tensor will be accumulated into .grad attribute.\n",
    "# It is the partial derivate of the function w.r.t. the tensor\n",
    "\n",
    "print(x.grad)\n",
    "z.backward()\n",
    "print(x.grad)"
   ]
  },
  {
   "cell_type": "markdown",
   "metadata": {
    "id": "V_p4wUueOXHx"
   },
   "source": [
    "# Stop a tensor from tracking history:\n",
    "\n"
   ]
  },
  {
   "cell_type": "markdown",
   "metadata": {
    "id": "sqft_WDKgPfa"
   },
   "source": [
    "For example during the training loop when we want to update our weights, or after training during evaluation. These operations should not be part of the gradient computation. To prevent this, we can use:\n",
    "\n",
    "- `x.requires_grad_(False)`\n",
    "- `x.detach()`\n",
    "- wrap in `with torch.no_grad():`"
   ]
  },
  {
   "cell_type": "code",
   "execution_count": 74,
   "metadata": {
    "colab": {
     "base_uri": "https://localhost:8080/"
    },
    "executionInfo": {
     "elapsed": 412,
     "status": "ok",
     "timestamp": 1731832201539,
     "user": {
      "displayName": "Ta-Seen Junaid",
      "userId": "10262038974734883085"
     },
     "user_tz": -60
    },
    "id": "1DPZ0-4EN4l1",
    "outputId": "9f8131cb-ed28-4310-f1e2-fee1f022bf83"
   },
   "outputs": [
    {
     "name": "stdout",
     "output_type": "stream",
     "text": [
      "False\n",
      "None\n",
      "True\n",
      "<SumBackward0 object at 0x785468634c40>\n"
     ]
    }
   ],
   "source": [
    "# requires_grad_() changes an existing flag in-place.\n",
    "a = torch.randn(6, 6)\n",
    "b = (a * a).sum()\n",
    "print(a.requires_grad)\n",
    "print(b.grad_fn)\n",
    "\n",
    "a.requires_grad_(True)\n",
    "b = (a * a).sum()\n",
    "print(a.requires_grad)\n",
    "print(b.grad_fn)"
   ]
  },
  {
   "cell_type": "code",
   "execution_count": 75,
   "metadata": {
    "colab": {
     "base_uri": "https://localhost:8080/"
    },
    "executionInfo": {
     "elapsed": 389,
     "status": "ok",
     "timestamp": 1731832456916,
     "user": {
      "displayName": "Ta-Seen Junaid",
      "userId": "10262038974734883085"
     },
     "user_tz": -60
    },
    "id": "6iCOWf_CPNcn",
    "outputId": "82abf732-0a8d-44b9-f53f-ee055f16574a"
   },
   "outputs": [
    {
     "name": "stdout",
     "output_type": "stream",
     "text": [
      "True\n",
      "False\n"
     ]
    }
   ],
   "source": [
    "# .detach(): get a new Tensor with the same content but no gradient computation.\n",
    "a = torch.randn(3, 4, requires_grad=True)\n",
    "b = a.detach()\n",
    "print(a.requires_grad)\n",
    "print(b.requires_grad)"
   ]
  },
  {
   "cell_type": "code",
   "execution_count": 76,
   "metadata": {
    "colab": {
     "base_uri": "https://localhost:8080/"
    },
    "executionInfo": {
     "elapsed": 405,
     "status": "ok",
     "timestamp": 1731832569156,
     "user": {
      "displayName": "Ta-Seen Junaid",
      "userId": "10262038974734883085"
     },
     "user_tz": -60
    },
    "id": "fpQvR4MbQiNJ",
    "outputId": "9394744a-aaa1-4eb3-f76e-0a5bea583c30"
   },
   "outputs": [
    {
     "name": "stdout",
     "output_type": "stream",
     "text": [
      "True\n",
      "False\n"
     ]
    }
   ],
   "source": [
    "# wrap in \"with torch.no_grad():\"\n",
    "a = torch.randn(2, 2, requires_grad=True)\n",
    "print(a.requires_grad)\n",
    "with torch.no_grad():\n",
    "    print((x ** 2).requires_grad)"
   ]
  },
  {
   "cell_type": "markdown",
   "metadata": {
    "id": "kw6LwFSLRARS"
   },
   "source": [
    "## Gradient Descent Autograd"
   ]
  },
  {
   "cell_type": "markdown",
   "metadata": {
    "id": "q-tMKB0WT1LR"
   },
   "source": [
    "Linear Regression example:\n",
    "\n",
    "$f(x) = w * x  + b$\n",
    "\n",
    "here: `f(x) = 2 *x `"
   ]
  },
  {
   "cell_type": "code",
   "execution_count": 77,
   "metadata": {
    "colab": {
     "base_uri": "https://localhost:8080/"
    },
    "executionInfo": {
     "elapsed": 410,
     "status": "ok",
     "timestamp": 1731835080407,
     "user": {
      "displayName": "Ta-Seen Junaid",
      "userId": "10262038974734883085"
     },
     "user_tz": -60
    },
    "id": "8jZLFJ2FQ9my",
    "outputId": "c299daf1-26b4-4963-e779-9e108c06b6c8"
   },
   "outputs": [
    {
     "name": "stdout",
     "output_type": "stream",
     "text": [
      "Prediction before training: f(15.0) = 0.000\n"
     ]
    }
   ],
   "source": [
    "import torch\n",
    "\n",
    "# Linear regression\n",
    "# f = w *x + b\n",
    "# here: f = 2 * x\n",
    "\n",
    "X = torch.tensor([1, 2, 3, 4, 5, 6, 7, 8], dtype=torch.float32)\n",
    "Y = torch.tensor([2, 4, 6, 8, 10, 12, 14, 16], dtype=torch.float32)\n",
    "\n",
    "w = torch.tensor(0.0, dtype=torch.float32, requires_grad=True)#\n",
    "\n",
    "# model output\n",
    "def forward(x):\n",
    "  return w * x\n",
    "\n",
    "# loss = MSE\n",
    "def loss(y, y_pred):\n",
    "  return ((y_pred - y)**2).mean()\n",
    "\n",
    "X_test = 15.0\n",
    "\n",
    "print(f'Prediction before training: f({X_test}) = {forward(X_test).item():.3f}')"
   ]
  },
  {
   "cell_type": "code",
   "execution_count": 78,
   "metadata": {
    "colab": {
     "base_uri": "https://localhost:8080/"
    },
    "executionInfo": {
     "elapsed": 1021,
     "status": "ok",
     "timestamp": 1731835173774,
     "user": {
      "displayName": "Ta-Seen Junaid",
      "userId": "10262038974734883085"
     },
     "user_tz": -60
    },
    "id": "JLIROU-AWxSu",
    "outputId": "7294e034-600d-42a6-a910-66c41b36b0f4"
   },
   "outputs": [
    {
     "name": "stdout",
     "output_type": "stream",
     "text": [
      "epoch 10: w = 1.998, loss = 0.000\n",
      "epoch 20: w = 2.000, loss = 0.000\n",
      "epoch 30: w = 2.000, loss = 0.000\n",
      "epoch 40: w = 2.000, loss = 0.000\n",
      "epoch 50: w = 2.000, loss = 0.000\n",
      "epoch 60: w = 2.000, loss = 0.000\n",
      "epoch 70: w = 2.000, loss = 0.000\n",
      "epoch 80: w = 2.000, loss = 0.000\n",
      "epoch 90: w = 2.000, loss = 0.000\n",
      "epoch 100: w = 2.000, loss = 0.000\n",
      "Prediction after training: f(15.0) = 30.000\n"
     ]
    }
   ],
   "source": [
    "# Training\n",
    "learning_rate = 0.01\n",
    "n_epochs = 100\n",
    "\n",
    "for epoch in range(n_epochs):\n",
    "  # predict = forward_pass\n",
    "  y_pred = forward(X)\n",
    "\n",
    "  l = loss(Y, y_pred)\n",
    "\n",
    "  # claculate gradients = backward pass\n",
    "  l.backward() # dl/dw\n",
    "\n",
    "  # update weights\n",
    "  with torch.no_grad():\n",
    "    w -= learning_rate * w.grad\n",
    "\n",
    "    # zero the gradients after updating\n",
    "    w.grad.zero_()\n",
    "\n",
    "    if (epoch+1) % 10 == 0:\n",
    "      print(f'epoch {epoch+1}: w = {w.item():.3f}, loss = {l.item():.3f}')\n",
    "\n",
    "print(f'Prediction after training: f({X_test}) = {forward(X_test).item():.3f}')"
   ]
  },
  {
   "cell_type": "markdown",
   "metadata": {
    "id": "YCWIwCUu7Po7"
   },
   "source": [
    "# Model, Loss & Optimizer"
   ]
  },
  {
   "cell_type": "code",
   "execution_count": 79,
   "metadata": {
    "colab": {
     "base_uri": "https://localhost:8080/"
    },
    "executionInfo": {
     "elapsed": 231,
     "status": "ok",
     "timestamp": 1731912782737,
     "user": {
      "displayName": "Ta-Seen Junaid",
      "userId": "10262038974734883085"
     },
     "user_tz": -60
    },
    "id": "HpgD3QBi7UXF",
    "outputId": "e28d59c1-ae4f-445c-f404-2ff8f92a277e"
   },
   "outputs": [
    {
     "name": "stdout",
     "output_type": "stream",
     "text": [
      "n_samples: 8, n_features = 1\n"
     ]
    }
   ],
   "source": [
    "import torch\n",
    "import torch.nn as nn\n",
    "\n",
    "X  = torch.tensor([[1], [2], [3], [4], [5],[6], [7], [8]], dtype=torch.float32)\n",
    "Y = torch.tensor([[2], [4], [6], [8], [10], [12], [14], [16]], dtype=torch.float32)\n",
    "\n",
    "n_samples, n_features = X.shape\n",
    "print(f'n_samples: {n_samples}, n_features = {n_features}')\n",
    "\n",
    "# Create a test sample\n",
    "X_test = torch.tensor([15], dtype=torch.float32)"
   ]
  },
  {
   "cell_type": "code",
   "execution_count": 80,
   "metadata": {
    "colab": {
     "base_uri": "https://localhost:8080/"
    },
    "executionInfo": {
     "elapsed": 229,
     "status": "ok",
     "timestamp": 1731912786934,
     "user": {
      "displayName": "Ta-Seen Junaid",
      "userId": "10262038974734883085"
     },
     "user_tz": -60
    },
    "id": "MyEV9z7Z9BgD",
    "outputId": "38711da2-a1f9-4f2d-eeb9-9ff4e1b12265"
   },
   "outputs": [
    {
     "name": "stdout",
     "output_type": "stream",
     "text": [
      "Prediction before training: f(15.0) = 0.471\n",
      "epoch  10 : w = 1.9552526473999023  loss =  0.012647817842662334\n",
      "epoch  20 : w = 1.9580613374710083  loss =  0.011541050858795643\n",
      "epoch  30 : w = 1.9597065448760986  loss =  0.010653650388121605\n",
      "epoch  40 : w = 1.9612865447998047  loss =  0.009834491647779942\n",
      "epoch  50 : w = 1.9628046751022339  loss =  0.0090783154591918\n",
      "epoch  60 : w = 1.9642632007598877  loss =  0.00838029570877552\n",
      "epoch  70 : w = 1.9656645059585571  loss =  0.007735934574157\n",
      "epoch  80 : w = 1.9670109748840332  loss =  0.007141105365008116\n",
      "epoch  90 : w = 1.9683046340942383  loss =  0.006592025049030781\n",
      "epoch  100 : w = 1.9695475101470947  loss =  0.006085180677473545\n",
      "Prediction after training: f(15.0) = 29.714\n"
     ]
    }
   ],
   "source": [
    "class LinearRegression(nn.Module):\n",
    "  def __init__(self, input_dim, output_dim):\n",
    "    super(LinearRegression, self).__init__()\n",
    "    self.lin = nn.Linear(input_dim, output_dim)\n",
    "\n",
    "  def forward(self, x):\n",
    "    return self.lin(x)\n",
    "\n",
    "\n",
    "input_size, output_size = n_features, n_features\n",
    "model = LinearRegression(input_size, output_size)\n",
    "\n",
    "print(f'Prediction before training: f({X_test.item()}) = {model(X_test).item():.3f}')\n",
    "\n",
    "learning_rate = 0.01\n",
    "n_epochs = 100\n",
    "\n",
    "loss = nn.MSELoss()\n",
    "optimizer = torch.optim.SGD(model.parameters(), lr=learning_rate)\n",
    "\n",
    "for epoch in range(n_epochs):\n",
    "  y_predicted = model(X)\n",
    "\n",
    "  l = loss(Y, y_predicted)\n",
    "\n",
    "  l.backward()\n",
    "\n",
    "  optimizer.step()\n",
    "\n",
    "  optimizer.zero_grad()\n",
    "\n",
    "  if (epoch+1) % 10 == 0:\n",
    "    w, b = model.parameters()\n",
    "    print('epoch ', epoch+1, ': w =', w[0][0].item(), ' loss = ', l.item())\n",
    "\n",
    "print(f'Prediction after training: f({X_test.item()}) = {model(X_test).item():.3f}')"
   ]
  },
  {
   "cell_type": "markdown",
   "metadata": {
    "id": "k6tVgWJ9UVne"
   },
   "source": [
    "# Neural Net"
   ]
  },
  {
   "cell_type": "code",
   "execution_count": 81,
   "metadata": {
    "colab": {
     "base_uri": "https://localhost:8080/",
     "height": 1000
    },
    "executionInfo": {
     "elapsed": 14607,
     "status": "ok",
     "timestamp": 1731934755454,
     "user": {
      "displayName": "Ta-Seen Junaid",
      "userId": "10262038974734883085"
     },
     "user_tz": -60
    },
    "id": "mzRXwQx9CUQN",
    "outputId": "8e5756b4-2c65-4a5b-e030-e4dc7b98b28f"
   },
   "outputs": [
    {
     "data": {
      "image/png": "[encoded data removed]",
      "text/plain": [
       "<Figure size 640x480 with 6 Axes>"
      ]
     },
     "metadata": {},
     "output_type": "display_data"
    }
   ],
   "source": [
    "import torch\n",
    "import torch.nn as nn\n",
    "import torchvision\n",
    "import torchvision.transforms as transforms\n",
    "import matplotlib.pyplot as plt\n",
    "\n",
    "# Device configuration\n",
    "device = torch.device('cuda' if torch.cuda.is_available() else 'cpu')\n",
    "\n",
    "# Hyper-parameters\n",
    "input_size = 784 # 28x28\n",
    "hidden_size = 500\n",
    "num_classes = 10\n",
    "num_epochs = 2\n",
    "batch_size = 100\n",
    "learning_rate = 0.001\n",
    "\n",
    "# MNIST dataset\n",
    "train_dataset = torchvision.datasets.MNIST(root='./data',\n",
    "                                           train=True,\n",
    "                                           transform=transforms.ToTensor(),\n",
    "                                           download=True)\n",
    "\n",
    "test_dataset = torchvision.datasets.MNIST(root='./data',\n",
    "                                          train=False,\n",
    "                                          transform=transforms.ToTensor())\n",
    "\n",
    "# Data loader\n",
    "train_loader = torch.utils.data.DataLoader(dataset=train_dataset,\n",
    "                                           batch_size=batch_size,\n",
    "                                           shuffle=True)\n",
    "\n",
    "test_loader = torch.utils.data.DataLoader(dataset=test_dataset,\n",
    "                                          batch_size=batch_size,\n",
    "                                          shuffle=False)\n",
    "\n",
    "examples = iter(test_loader)\n",
    "example_data, example_targets = next(examples)\n",
    "\n",
    "for i in range(6):\n",
    "    plt.subplot(2,3,i+1)\n",
    "    plt.imshow(example_data[i][0], cmap='gray')\n",
    "plt.show()"
   ]
  },
  {
   "cell_type": "code",
   "execution_count": 82,
   "metadata": {
    "colab": {
     "base_uri": "https://localhost:8080/"
    },
    "executionInfo": {
     "elapsed": 31493,
     "status": "ok",
     "timestamp": 1731920096703,
     "user": {
      "displayName": "Ta-Seen Junaid",
      "userId": "10262038974734883085"
     },
     "user_tz": -60
    },
    "id": "Wksv_ZTNYQMt",
    "outputId": "2e4fcca7-5f37-487d-d7e2-c76c5340b97a"
   },
   "outputs": [
    {
     "name": "stdout",
     "output_type": "stream",
     "text": [
      "Epoch [1/2], Step [100/600], Loss: 0.3531\n",
      "Epoch [1/2], Step [200/600], Loss: 0.3218\n",
      "Epoch [1/2], Step [300/600], Loss: 0.2805\n",
      "Epoch [1/2], Step [400/600], Loss: 0.1299\n",
      "Epoch [1/2], Step [500/600], Loss: 0.2109\n",
      "Epoch [1/2], Step [600/600], Loss: 0.1094\n",
      "Epoch [2/2], Step [100/600], Loss: 0.2893\n",
      "Epoch [2/2], Step [200/600], Loss: 0.0991\n",
      "Epoch [2/2], Step [300/600], Loss: 0.0653\n",
      "Epoch [2/2], Step [400/600], Loss: 0.0914\n",
      "Epoch [2/2], Step [500/600], Loss: 0.0728\n",
      "Epoch [2/2], Step [600/600], Loss: 0.0985\n"
     ]
    }
   ],
   "source": [
    "class NeuralNet(nn.Module):\n",
    "  def __init__(self, input_size, hidden_size, num_classes):\n",
    "    super(NeuralNet, self).__init__()\n",
    "    self.l1 = nn.Linear(input_size, hidden_size)\n",
    "    self.relu = nn.ReLU()\n",
    "    self.l2 = nn.Linear(hidden_size, num_classes)\n",
    "\n",
    "  def forward(self, x):\n",
    "    out = self.l1(x)\n",
    "    out = self.relu(out)\n",
    "    out = self.l2(out)\n",
    "    return out\n",
    "\n",
    "model = NeuralNet(input_size, hidden_size, num_classes).to(device)\n",
    "\n",
    "criterion = nn.CrossEntropyLoss()\n",
    "optimizer = torch.optim.Adam(model.parameters(), lr=learning_rate)\n",
    "\n",
    "# Train the model\n",
    "n_total_steps = len(train_loader)\n",
    "for epoch in range(num_epochs):\n",
    "  for i, (images, labels) in enumerate(train_loader):\n",
    "    images = images.reshape(-1, 28*28).to(device)\n",
    "    labels = labels.to(device)\n",
    "\n",
    "    # Forward pass and loss claculation\n",
    "    outputs = model(images)\n",
    "    loss = criterion(outputs, labels)\n",
    "\n",
    "    # Backward and optimize\n",
    "    loss.backward()\n",
    "    optimizer.step()\n",
    "    optimizer.zero_grad()\n",
    "\n",
    "    if (i+1) % 100 == 0:\n",
    "      print(f'Epoch [{epoch+1}/{num_epochs}], Step [{i+1}/{n_total_steps}], Loss: {loss.item():.4f}')"
   ]
  },
  {
   "cell_type": "code",
   "execution_count": 83,
   "metadata": {
    "colab": {
     "base_uri": "https://localhost:8080/"
    },
    "executionInfo": {
     "elapsed": 1814,
     "status": "ok",
     "timestamp": 1731920396911,
     "user": {
      "displayName": "Ta-Seen Junaid",
      "userId": "10262038974734883085"
     },
     "user_tz": -60
    },
    "id": "DMdombctercD",
    "outputId": "7e49e29c-bd9c-4b10-b338-10a537958b05"
   },
   "outputs": [
    {
     "name": "stdout",
     "output_type": "stream",
     "text": [
      "Accuracy of the network on the 10000 test images: 97.07000000000001 %\n"
     ]
    }
   ],
   "source": [
    "# Test the model: we don't need to compute gradients\n",
    "with torch.no_grad():\n",
    "    n_correct = 0\n",
    "    n_samples = len(test_loader.dataset)\n",
    "\n",
    "    for images, labels in test_loader:\n",
    "        images = images.reshape(-1, 28*28).to(device)\n",
    "        labels = labels.to(device)\n",
    "\n",
    "        outputs = model(images)\n",
    "\n",
    "        # max returns (output_value ,index)\n",
    "        _, predicted = torch.max(outputs, 1)\n",
    "        n_correct += (predicted == labels).sum().item()\n",
    "\n",
    "    acc = n_correct / n_samples\n",
    "    print(f'Accuracy of the network on the {n_samples} test images: {100*acc} %')"
   ]
  },
  {
   "cell_type": "markdown",
   "metadata": {
    "id": "AVEEVDQ0dscj"
   },
   "source": [
    "## CNN"
   ]
  },
  {
   "cell_type": "code",
   "execution_count": 84,
   "metadata": {
    "colab": {
     "base_uri": "https://localhost:8080/",
     "height": 228
    },
    "executionInfo": {
     "elapsed": 2394,
     "status": "ok",
     "timestamp": 1731937360382,
     "user": {
      "displayName": "Ta-Seen Junaid",
      "userId": "10262038974734883085"
     },
     "user_tz": -60
    },
    "id": "q_ij79GzW11e",
    "outputId": "b74f0007-6ceb-4286-e8e6-3683806e5b48"
   },
   "outputs": [
    {
     "name": "stdout",
     "output_type": "stream",
     "text": [
      "Downloading https://www.cs.toronto.edu/~kriz/cifar-10-python.tar.gz to ./data/cifar-10-python.tar.gz\n"
     ]
    },
    {
     "name": "stderr",
     "output_type": "stream",
     "text": [
      "100.0%\n"
     ]
    },
    {
     "name": "stdout",
     "output_type": "stream",
     "text": [
      "Extracting ./data/cifar-10-python.tar.gz to ./data\n",
      "Files already downloaded and verified\n"
     ]
    },
    {
     "data": {
      "image/png": "[encoded data removed]",
      "text/plain": [
       "<Figure size 640x480 with 1 Axes>"
      ]
     },
     "metadata": {},
     "output_type": "display_data"
    }
   ],
   "source": [
    "import torch\n",
    "import torch.nn as nn\n",
    "import torch.nn.functional as F\n",
    "import torchvision\n",
    "import torchvision.transforms as transforms\n",
    "import matplotlib.pyplot as plt\n",
    "import numpy as np\n",
    "\n",
    "device = torch.device('cuda' if torch.cuda.is_available() else 'cpu')\n",
    "\n",
    "num_epochs = 5\n",
    "batch_size = 4\n",
    "learning_rate = 0.001\n",
    "\n",
    "transform = transforms.Compose([transforms.ToTensor(), transforms.Normalize((0.5, 0.5, 0.5), (0.5, 0.5, 0.5))])\n",
    "\n",
    "train_dataset = torchvision.datasets.CIFAR10(root='./data',\n",
    "                                             train=True,\n",
    "                                             download=True,\n",
    "                                             transform=transform)\n",
    "\n",
    "test_dataset = torchvision.datasets.CIFAR10(root='./data',\n",
    "                                            train=False,\n",
    "                                            download=True,\n",
    "                                            transform=transform)\n",
    "\n",
    "train_loader = torch.utils.data.DataLoader(train_dataset,\n",
    "                                           batch_size=batch_size,\n",
    "                                           shuffle=True)\n",
    "test_loader = torch.utils.data.DataLoader(test_dataset,\n",
    "                                          batch_size=batch_size,\n",
    "                                          shuffle=False)\n",
    "\n",
    "classes = ('plane', 'car', 'bird', 'cat', 'deer', 'dog', 'frog', 'horse', 'ship', 'truck')\n",
    "\n",
    "def imshow(imgs):\n",
    "  imgs = imgs / 2 + 0.5\n",
    "  npimgs = imgs.numpy()\n",
    "  plt.imshow(np.transpose(npimgs, (1, 2, 0)))\n",
    "  plt.show()\n",
    "\n",
    "dataiter = iter(train_loader)\n",
    "images, labels = next(dataiter)\n",
    "img_grid = torchvision.utils.make_grid(images, nrow=5)\n",
    "imshow(img_grid)"
   ]
  },
  {
   "cell_type": "code",
   "execution_count": 85,
   "metadata": {
    "colab": {
     "base_uri": "https://localhost:8080/"
    },
    "id": "Db4YNVOOe3dq",
    "outputId": "32435648-ac14-423b-b83c-d2a5a3a6e32d"
   },
   "outputs": [
    {
     "name": "stdout",
     "output_type": "stream",
     "text": [
      "[1] loss: 1.412\n",
      "[2] loss: 1.077\n",
      "[3] loss: 0.950\n",
      "[4] loss: 0.869\n",
      "[5] loss: 0.815\n",
      "Finished Training\n"
     ]
    }
   ],
   "source": [
    "class ConvNet(nn.Module):\n",
    "    def __init__(self):\n",
    "        super().__init__()\n",
    "        self.conv1 = nn.Conv2d(3, 32, 3)\n",
    "        self.pool = nn.MaxPool2d(2, 2)\n",
    "        self.conv2 = nn.Conv2d(32, 64, 3)  # Corrected here\n",
    "        self.conv3 = nn.Conv2d(64, 64, 3)\n",
    "        self.fc1 = nn.Linear(64 * 4 * 4, 64)\n",
    "        self.fc2 = nn.Linear(64, 10)\n",
    "\n",
    "    def forward(self, x):\n",
    "        x = F.relu(self.conv1(x))   # -> N, 32, 30, 30\n",
    "        x = self.pool(x)            # -> N, 32, 15, 15\n",
    "        x = F.relu(self.conv2(x))   # -> N, 64, 13, 13\n",
    "        x = self.pool(x)            # -> N, 64, 6, 6\n",
    "        x = F.relu(self.conv3(x))   # -> N, 64, 4, 4\n",
    "        x = torch.flatten(x, 1)     # -> N, 1024\n",
    "        x = F.relu(self.fc1(x))     # -> N, 64\n",
    "        x = self.fc2(x)             # -> N, 10\n",
    "        return x\n",
    "\n",
    "\n",
    "model = ConvNet().to(device)\n",
    "\n",
    "criterion = nn.CrossEntropyLoss()\n",
    "optimizer = torch.optim.Adam(model.parameters(), lr=learning_rate)\n",
    "\n",
    "n_total_steps = len(train_loader)\n",
    "for epoch in range(num_epochs):\n",
    "\n",
    "    running_loss = 0.0\n",
    "\n",
    "    for i, (images, labels) in enumerate(train_loader):\n",
    "        images = images.to(device)\n",
    "        labels = labels.to(device)\n",
    "\n",
    "        # Forward pass\n",
    "        outputs = model(images)\n",
    "        loss = criterion(outputs, labels)\n",
    "\n",
    "        # Backward and optimize\n",
    "        loss.backward()\n",
    "        optimizer.step()\n",
    "        optimizer.zero_grad()\n",
    "\n",
    "        running_loss += loss.item()\n",
    "\n",
    "    print(f'[{epoch + 1}] loss: {running_loss / n_total_steps:.3f}')\n",
    "\n",
    "print('Finished Training')\n",
    "PATH = './cnn.pth'\n",
    "torch.save(model.state_dict(), PATH)"
   ]
  },
  {
   "cell_type": "code",
   "execution_count": 86,
   "metadata": {
    "colab": {
     "base_uri": "https://localhost:8080/"
    },
    "executionInfo": {
     "elapsed": 4038,
     "status": "ok",
     "timestamp": 1657286375185,
     "user": {
      "displayName": "Python Engineer",
      "userId": "17548894429742869312"
     },
     "user_tz": -120
    },
    "id": "oVIQkMQXsRIR",
    "outputId": "77c1f6af-0ef4-4394-9f56-910a847065cb"
   },
   "outputs": [
    {
     "name": "stdout",
     "output_type": "stream",
     "text": [
      "Accuracy of the model: 68.34 %\n",
      "Accuracy of the loaded model: 68.34 %\n"
     ]
    }
   ],
   "source": [
    "loaded_model = ConvNet()\n",
    "loaded_model.load_state_dict(torch.load(PATH)) # it takes the loaded dictionary, not the path file itself\n",
    "loaded_model.to(device)\n",
    "loaded_model.eval()\n",
    "\n",
    "with torch.no_grad():\n",
    "    n_correct = 0\n",
    "    n_correct2 = 0\n",
    "    n_samples = len(test_loader.dataset)\n",
    "\n",
    "    for images, labels in test_loader:\n",
    "        images = images.to(device)\n",
    "        labels = labels.to(device)\n",
    "        outputs = model(images)\n",
    "\n",
    "        # max returns (value ,index)\n",
    "        _, predicted = torch.max(outputs, 1)\n",
    "        n_correct += (predicted == labels).sum().item()\n",
    "\n",
    "        outputs2 = loaded_model(images)\n",
    "        _, predicted2 = torch.max(outputs2, 1)\n",
    "        n_correct2 += (predicted2 == labels).sum().item()\n",
    "\n",
    "    acc = 100.0 * n_correct / n_samples\n",
    "    print(f'Accuracy of the model: {acc} %')\n",
    "\n",
    "    acc = 100.0 * n_correct2 / n_samples\n",
    "    print(f'Accuracy of the loaded model: {acc} %')"
   ]
  }
 ],
 "metadata": {
  "accelerator": "GPU",
  "colab": {
   "authorship_tag": "ABX9TyNghmZPG0R5AvYR4BD1HByi",
   "gpuType": "T4",
   "provenance": [],
   "toc_visible": true
  },
  "kernelspec": {
   "display_name": "Python 3",
   "name": "python3"
  },
  "language_info": {
   "name": "python"
  }
 },
 "nbformat": 4,
 "nbformat_minor": 0
}
